{
 "cells": [
  {
   "cell_type": "code",
   "execution_count": 1,
   "metadata": {},
   "outputs": [],
   "source": [
    "n = 3\n",
    "M = 15\n",
    "a = [7, 8, 9]"
   ]
  },
  {
   "cell_type": "code",
   "execution_count": 2,
   "metadata": {},
   "outputs": [],
   "source": [
    "def init_state():\n",
    "    state = []\n",
    "    for _ in range(n + 3):\n",
    "        state.append(0)\n",
    "    return state"
   ]
  },
  {
   "cell_type": "code",
   "execution_count": 3,
   "metadata": {},
   "outputs": [],
   "source": [
    "def check_state(state):\n",
    "    return state[-3] == M"
   ]
  },
  {
   "cell_type": "code",
   "execution_count": 4,
   "metadata": {},
   "outputs": [],
   "source": [
    "def check_duplicate(state_1, state_2):\n",
    "    for i in range(n + 1):\n",
    "        if state_1[i] != state_2[i]:\n",
    "            return True\n",
    "    return False"
   ]
  },
  {
   "cell_type": "code",
   "execution_count": 5,
   "metadata": {},
   "outputs": [],
   "source": [
    "def pour_full_water_to_ladle_i_from_river(state, i):\n",
    "    finish_state = state.copy()\n",
    "    global count\n",
    "    count += 1\n",
    "    finish_state[-2] = count\n",
    "    finish_state[-1] = state[-2]\n",
    "    if state[i] < a[i]:\n",
    "        finish_state[i] = a[i]\n",
    "\n",
    "    return finish_state"
   ]
  },
  {
   "cell_type": "code",
   "execution_count": 6,
   "metadata": {},
   "outputs": [],
   "source": [
    "def make_empty_ladle_i(state, i):\n",
    "    finish_state = state.copy()\n",
    "    global count\n",
    "    count += 1\n",
    "    finish_state[-2] = count\n",
    "    finish_state[-1] = state[-2]\n",
    "    if state[i] > 0:\n",
    "        finish_state[i] = 0\n",
    "\n",
    "    return finish_state"
   ]
  },
  {
   "cell_type": "code",
   "execution_count": 7,
   "metadata": {},
   "outputs": [],
   "source": [
    "def pour_water_from_ladle_i_to_ladle_j(state, i, j):\n",
    "    finish_state = state.copy()\n",
    "    global count\n",
    "    count += 1\n",
    "    finish_state[-2] = count\n",
    "    finish_state[-1] = state[-2]\n",
    "    if (state[j] < a[j]) and (state[i] > 0):\n",
    "        finish_state[i] = max(0, state[i] - (a[j] - state[j]))\n",
    "        finish_state[j] = min(a[j], state[i] + state[j])\n",
    "    return finish_state"
   ]
  },
  {
   "cell_type": "code",
   "execution_count": 8,
   "metadata": {},
   "outputs": [],
   "source": [
    "def pour_water_from_ladle_i_to_pool(state, i):\n",
    "    finish_state = state.copy()\n",
    "    global count\n",
    "    count += 1\n",
    "    finish_state[-2] = count\n",
    "    finish_state[-1] = state[-2]\n",
    "    if (state[i] > 0) and (state[i] + state[-3] <= M):\n",
    "        finish_state[i] = 0\n",
    "        finish_state[-3] += state[i]\n",
    "    return finish_state"
   ]
  },
  {
   "cell_type": "code",
   "execution_count": 9,
   "metadata": {},
   "outputs": [],
   "source": [
    "def generate_state(state):\n",
    "    childs = []\n",
    "    global count\n",
    "    for i in range(n):\n",
    "        child_state = pour_full_water_to_ladle_i_from_river(state, i)\n",
    "        if check_duplicate(child_state, state):\n",
    "            childs.append(child_state)\n",
    "\n",
    "    for i in range(n):\n",
    "        child_state = pour_water_from_ladle_i_to_pool(state, i)\n",
    "        if check_duplicate(child_state, state):\n",
    "            childs.append(child_state)\n",
    "\n",
    "    for i in range(n):\n",
    "        child_state = make_empty_ladle_i(state, i)\n",
    "        if check_duplicate(child_state, state):\n",
    "            childs.append(child_state)\n",
    "\n",
    "    for i in range(n):\n",
    "        for j in range(n):\n",
    "            if i != j:\n",
    "                child_state = pour_water_from_ladle_i_to_ladle_j(state, i, j)\n",
    "                if check_duplicate(child_state, state):\n",
    "                    childs.append(child_state)\n",
    "\n",
    "    return childs"
   ]
  },
  {
   "cell_type": "code",
   "execution_count": 10,
   "metadata": {},
   "outputs": [],
   "source": [
    "def check_not_in(child, arr):\n",
    "    for value in arr:\n",
    "        if not check_duplicate(child, value):\n",
    "            return False\n",
    "    return True"
   ]
  },
  {
   "cell_type": "code",
   "execution_count": 11,
   "metadata": {},
   "outputs": [],
   "source": [
    "count = 0\n",
    "init = init_state()\n",
    "open = [init]\n",
    "close = []\n",
    "while open:\n",
    "    state = open[0]\n",
    "    close.append(state)\n",
    "    open.pop(0)\n",
    "    if check_state(state):\n",
    "        break\n",
    "    childs = generate_state(state)\n",
    "    for child in childs:\n",
    "        if check_not_in(child, close):\n",
    "            if check_not_in(child, open):\n",
    "                open.append(child)"
   ]
  },
  {
   "cell_type": "code",
   "execution_count": 12,
   "metadata": {},
   "outputs": [],
   "source": [
    "step = close[-1]\n",
    "steps = [step]\n",
    "while True:\n",
    "    for state in close:\n",
    "        if step[-1] == state[-2]:\n",
    "            step = state\n",
    "            steps.insert(0, step)\n",
    "            break\n",
    "    if step[-1] == 0:\n",
    "        break"
   ]
  },
  {
   "cell_type": "code",
   "execution_count": 13,
   "metadata": {},
   "outputs": [
    {
     "name": "stdout",
     "output_type": "stream",
     "text": [
      "Gáo 1: 7 lít, Gáo 2: 0 lít, Gáo 3: 0 lít, Bể: 0\n",
      "Gáo 1: 7 lít, Gáo 2: 8 lít, Gáo 3: 0 lít, Bể: 0\n",
      "Gáo 1: 0 lít, Gáo 2: 8 lít, Gáo 3: 0 lít, Bể: 7\n",
      "Gáo 1: 0 lít, Gáo 2: 0 lít, Gáo 3: 0 lít, Bể: 15\n"
     ]
    }
   ],
   "source": [
    "for step in steps:\n",
    "    stage = \"\"\n",
    "    for i in range(n):\n",
    "        stage += \"Gáo \" + str(i + 1) + \": \" + str(step[i]) + \" lít, \"\n",
    "    stage += \"Bể: \" + str(step[n])\n",
    "    print(stage)"
   ]
  }
 ],
 "metadata": {
  "kernelspec": {
   "display_name": "base",
   "language": "python",
   "name": "python3"
  },
  "language_info": {
   "codemirror_mode": {
    "name": "ipython",
    "version": 3
   },
   "file_extension": ".py",
   "mimetype": "text/x-python",
   "name": "python",
   "nbconvert_exporter": "python",
   "pygments_lexer": "ipython3",
   "version": "3.11.7"
  },
  "orig_nbformat": 4
 },
 "nbformat": 4,
 "nbformat_minor": 2
}
